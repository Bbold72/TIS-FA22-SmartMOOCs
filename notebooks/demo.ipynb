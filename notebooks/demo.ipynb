{
 "cells": [
  {
   "cell_type": "code",
   "execution_count": 2,
   "metadata": {},
   "outputs": [],
   "source": [
    "import pandas as pd\n",
    "from pathlib import Path\n",
    "\n",
    "from src import utils\n",
    "from src.data import process_transcripts\n",
    "\n",
    "\n",
    "ROOT_DIR = utils.get_project_root()\n",
    "DATA_DIR = Path.joinpath(ROOT_DIR, 'data')\n",
    "DATA_RAW_DIR = Path.joinpath(DATA_DIR, 'raw/cs-410')\n",
    "INTERMEDATE_DATA_DIR = Path.joinpath(DATA_DIR, 'intermediate')"
   ]
  },
  {
   "cell_type": "markdown",
   "metadata": {},
   "source": [
    "# Process Raw Transcript File"
   ]
  },
  {
   "cell_type": "code",
   "execution_count": 4,
   "metadata": {},
   "outputs": [
    {
     "name": "stdout",
     "output_type": "stream",
     "text": [
      "Segment(id=0, beg=datetime.datetime(1900, 1, 1, 0, 0, 0, 86000), end=datetime.datetime(1900, 1, 1, 0, 0, 7, 516000), text='[SOUND] This')\n",
      "Segment(id=1, beg=datetime.datetime(1900, 1, 1, 0, 0, 7, 516000), end=datetime.datetime(1900, 1, 1, 0, 0, 10, 282000), text='lecture is about the Probabilistic Retrieval Model.')\n",
      "Segment(id=2, beg=datetime.datetime(1900, 1, 1, 0, 0, 10, 282000), end=datetime.datetime(1900, 1, 1, 0, 0, 11, 805000), text='In this lecture,')\n",
      "Segment(id=3, beg=datetime.datetime(1900, 1, 1, 0, 0, 11, 805000), end=datetime.datetime(1900, 1, 1, 0, 0, 17, 806000), text=\"we're going to continue the discussion of the Text Retrieval Methods.\")\n",
      "Segment(id=4, beg=datetime.datetime(1900, 1, 1, 0, 0, 17, 806000), end=datetime.datetime(1900, 1, 1, 0, 0, 22, 942000), text=\"We're going to look at another kind of very different way to design ranking\")\n"
     ]
    }
   ],
   "source": [
    "file_name = '04_week-4/02_week-4-lessons/01_lesson-4-1-probabilistic-retrieval-model-basic-idea.en.srt'\n",
    "file_path = Path.joinpath(DATA_RAW_DIR, file_name)\n",
    "\n",
    "transcript_segments = process_transcripts.process_transcript(file_path)\n",
    "\n",
    "# print out first 5 segments\n",
    "for s in transcript_segments[:5]:\n",
    "    print(s)"
   ]
  }
 ],
 "metadata": {
  "kernelspec": {
   "display_name": "Python 3.10.6 ('tis-project')",
   "language": "python",
   "name": "python3"
  },
  "language_info": {
   "codemirror_mode": {
    "name": "ipython",
    "version": 3
   },
   "file_extension": ".py",
   "mimetype": "text/x-python",
   "name": "python",
   "nbconvert_exporter": "python",
   "pygments_lexer": "ipython3",
   "version": "3.10.6"
  },
  "orig_nbformat": 4,
  "vscode": {
   "interpreter": {
    "hash": "85a5c2dc979ec021335ff2758cc7fbdc3d2baa50f6cf88c303f22e6e76e98821"
   }
  }
 },
 "nbformat": 4,
 "nbformat_minor": 2
}
