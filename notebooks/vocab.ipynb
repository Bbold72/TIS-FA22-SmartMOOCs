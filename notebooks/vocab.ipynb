{
 "cells": [
  {
   "cell_type": "code",
   "execution_count": null,
   "metadata": {},
   "outputs": [],
   "source": [
    "from collections import Counter\n",
    "import nltk\n",
    "from pathlib import Path\n",
    "import pickle\n",
    "import re\n",
    "import string\n",
    "from typing import List\n",
    "\n",
    "nltk.download('punkt')\n",
    "nltk.download('stopwords')\n",
    "stop_words = set(nltk.corpus.stopwords.words('english'))\n",
    "\n",
    "from src import utils\n",
    "\n",
    "ROOT_DIR = utils.get_project_root()\n",
    "DATA_DIR = Path.joinpath(ROOT_DIR, 'data')\n",
    "DATA_RAW_DIR = Path.joinpath(DATA_DIR, 'raw/cs-410')\n",
    "INTERMEDATE_DATA_DIR = Path.joinpath(DATA_DIR, 'intermediate')"
   ]
  },
  {
   "cell_type": "markdown",
   "metadata": {},
   "source": [
    "### Punctuation used in string module"
   ]
  },
  {
   "cell_type": "code",
   "execution_count": null,
   "metadata": {},
   "outputs": [],
   "source": [
    "string.punctuation"
   ]
  },
  {
   "cell_type": "code",
   "execution_count": null,
   "metadata": {},
   "outputs": [],
   "source": [
    "# with open(Path.joinpath(INTERMEDATE_DATA_DIR, 'transcripts.pkl'), 'rb') as f:\n",
    "#         transcripts = pickle.load(f)\n",
    "\n",
    "# all_segments = [] \n",
    "# for transcript_segments in transcripts.values():\n",
    "#         all_segments.extend(transcript_segments)\n",
    "# vocab = Vocabulary(all_segments, remove_stop_words=True, combine_ngrams=False, stem_words=False)"
   ]
  },
  {
   "cell_type": "markdown",
   "metadata": {},
   "source": [
    "### Load processed transcripts and add text to list"
   ]
  },
  {
   "cell_type": "code",
   "execution_count": null,
   "metadata": {},
   "outputs": [],
   "source": [
    "with open(Path.joinpath(INTERMEDATE_DATA_DIR, 'transcripts.pkl'), 'rb') as f:\n",
    "        transcripts = pickle.load(f)\n",
    "\n",
    "all_text = [] \n",
    "\n",
    "for transcript_segments in transcripts.values():\n",
    "    for segment in transcript_segments:\n",
    "        all_text.append(segment.text)\n",
    "all_text = ' '.join(all_text).lower().split('.')"
   ]
  },
  {
   "cell_type": "code",
   "execution_count": null,
   "metadata": {},
   "outputs": [],
   "source": [
    "token_list = []\n",
    "for sentence in all_text:\n",
    "    sentence = sentence.strip().translate(str.maketrans('', '', string.punctuation)) # remove punctuation\n",
    "    sentence = re.sub(r\"\\b\\d+[s]{0,1}\\b\", 'NUMBER', sentence)                        # replace numbers with this token\n",
    "    \n",
    "    # tokenize sentence\n",
    "    tokens = nltk.word_tokenize(sentence)\n",
    "    tokens = [word for word in tokens if word not in stop_words]\n",
    "    token_list.append(tokens)\n",
    "\n",
    "token_list[:3]"
   ]
  },
  {
   "cell_type": "markdown",
   "metadata": {},
   "source": [
    "## Count Most Common N-Grams"
   ]
  },
  {
   "cell_type": "code",
   "execution_count": null,
   "metadata": {},
   "outputs": [],
   "source": [
    "def count_n_grams(tokenized_sentences: List[List[str]], n: int) -> Counter:\n",
    "    '''\n",
    "    count all n-grams in TIS corpus\n",
    "\n",
    "    Input:\n",
    "        - tokenized_sentences: List[List[str]] - list of tokenized sentences\n",
    "        - n: int - size of n-gram\n",
    "    \n",
    "    Return: Counter - count of all n-grams\n",
    "    '''\n",
    "    # enumerate all n-grams\n",
    "    n_grams_list = []\n",
    "    for tokens in tokenized_sentences:\n",
    "        n_grams_list.append(list(nltk.ngrams(tokens, n, pad_left=True, pad_right=True, left_pad_symbol='<s>', right_pad_symbol='</s>')))\n",
    "\n",
    "    # combine n-grams with '_' and count\n",
    "    merged_n_grams = []\n",
    "    for sentence in n_grams_list:\n",
    "        for n_gram in sentence:\n",
    "            s ='_'.join(n_gram)\n",
    "            if '<s>' not in s and '</s>' not in s:\n",
    "                merged_n_grams.append(s)\n",
    "\n",
    "    return Counter(merged_n_grams)"
   ]
  },
  {
   "cell_type": "markdown",
   "metadata": {},
   "source": [
    "### Most Common 4-Grams"
   ]
  },
  {
   "cell_type": "code",
   "execution_count": null,
   "metadata": {},
   "outputs": [],
   "source": [
    "count_4_grams = count_n_grams(token_list, n=4)\n",
    "count_4_grams.most_common(100)"
   ]
  },
  {
   "cell_type": "markdown",
   "metadata": {},
   "source": [
    "### Most Common Tri-Grams"
   ]
  },
  {
   "cell_type": "code",
   "execution_count": null,
   "metadata": {},
   "outputs": [],
   "source": [
    "count_3_grams = count_n_grams(token_list, n=3)\n",
    "count_3_grams.most_common(200)"
   ]
  },
  {
   "cell_type": "markdown",
   "metadata": {},
   "source": [
    "### Most Common Bi-Grams"
   ]
  },
  {
   "cell_type": "code",
   "execution_count": null,
   "metadata": {},
   "outputs": [],
   "source": [
    "count_2_grams = count_n_grams(token_list, n=2)\n",
    "count_2_grams.most_common(200)"
   ]
  },
  {
   "cell_type": "markdown",
   "metadata": {},
   "source": [
    "### Create vocabulary set from tokens"
   ]
  },
  {
   "cell_type": "code",
   "execution_count": null,
   "metadata": {},
   "outputs": [],
   "source": [
    "vocab = set()\n",
    "for tokens in token_list:\n",
    "    vocab.update(tokens)\n",
    "vocab = sorted(list(vocab))\n",
    "vocab[:10]"
   ]
  },
  {
   "cell_type": "markdown",
   "metadata": {},
   "source": [
    "### Vocabulary Size"
   ]
  },
  {
   "cell_type": "code",
   "execution_count": null,
   "metadata": {},
   "outputs": [],
   "source": [
    "len(vocab)"
   ]
  },
  {
   "cell_type": "markdown",
   "metadata": {},
   "source": [
    "### Porter Stemmer"
   ]
  },
  {
   "cell_type": "code",
   "execution_count": null,
   "metadata": {},
   "outputs": [],
   "source": [
    "from nltk.stem import PorterStemmer\n",
    "stemmer = PorterStemmer()\n",
    "vocab_stemmed = sorted(list(set(stemmer.stem(word) for word in vocab)))\n",
    "vocab_stemmed[:10]"
   ]
  },
  {
   "cell_type": "markdown",
   "metadata": {},
   "source": [
    "### Size of stemmed vocabulary"
   ]
  },
  {
   "cell_type": "code",
   "execution_count": null,
   "metadata": {},
   "outputs": [],
   "source": [
    "len(vocab_stemmed)"
   ]
  },
  {
   "cell_type": "markdown",
   "metadata": {},
   "source": [
    "### Effects of Porter Stemmer"
   ]
  },
  {
   "cell_type": "code",
   "execution_count": null,
   "metadata": {},
   "outputs": [],
   "source": [
    "from nltk.stem import PorterStemmer\n",
    "stemmer = PorterStemmer()\n",
    "tokens = ['probability', 'probabilistic', 'vector', 'vectors', 'word', 'words', 'computer', 'computation', 'computational']\n",
    "tokens_stemmed = [stemmer.stem(word) for word in tokens]\n",
    "for word, stem in zip(tokens, tokens_stemmed):\n",
    "    print(word, '-', stem)"
   ]
  }
 ],
 "metadata": {
  "kernelspec": {
   "display_name": "Python 3.10.6 ('tis-project')",
   "language": "python",
   "name": "python3"
  },
  "language_info": {
   "codemirror_mode": {
    "name": "ipython",
    "version": 3
   },
   "file_extension": ".py",
   "mimetype": "text/x-python",
   "name": "python",
   "nbconvert_exporter": "python",
   "pygments_lexer": "ipython3",
   "version": "3.10.6"
  },
  "orig_nbformat": 4,
  "vscode": {
   "interpreter": {
    "hash": "85a5c2dc979ec021335ff2758cc7fbdc3d2baa50f6cf88c303f22e6e76e98821"
   }
  }
 },
 "nbformat": 4,
 "nbformat_minor": 2
}
